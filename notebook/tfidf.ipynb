{
 "cells": [
  {
   "cell_type": "code",
   "execution_count": 1,
   "metadata": {},
   "outputs": [],
   "source": [
    "import nltk\n",
    "import re\n",
    "import numpy as np\n",
    "import pandas as pd\n",
    "import matplotlib.pyplot as plt\n",
    "%matplotlib inline\n",
    "import seaborn as sns\n",
    "\n",
    "from collections import Counter\n",
    "from gensim.utils import simple_preprocess\n",
    "from gensim.parsing.preprocessing import STOPWORDS\n",
    "from nltk.stem import WordNetLemmatizer\n",
    "from sklearn.model_selection import train_test_split\n",
    "from sklearn.feature_extraction.text import TfidfVectorizer, CountVectorizer\n",
    "from sklearn.naive_bayes import MultinomialNB\n",
    "from sklearn.naive_bayes import GaussianNB\n",
    "from sklearn.naive_bayes import BernoulliNB\n",
    "from sklearn.svm import SVC\n",
    "from sklearn.neural_network import MLPClassifier\n",
    "from sklearn.ensemble import AdaBoostClassifier\n",
    "from sklearn.tree import DecisionTreeClassifier\n",
    "from sklearn.ensemble import RandomForestClassifier\n",
    "from sklearn.ensemble import GradientBoostingClassifier\n",
    "from sklearn.linear_model import LogisticRegression\n",
    "from sklearn.model_selection import GridSearchCV\n",
    "from sklearn.metrics import f1_score, confusion_matrix\n",
    "\n",
    "pd.options.display.max_colwidth = 200\n",
    "\n",
    "lemmatizer = WordNetLemmatizer()"
   ]
  },
  {
   "cell_type": "code",
   "execution_count": 2,
   "metadata": {},
   "outputs": [
    {
     "data": {
      "text/html": [
       "<div>\n",
       "<style scoped>\n",
       "    .dataframe tbody tr th:only-of-type {\n",
       "        vertical-align: middle;\n",
       "    }\n",
       "\n",
       "    .dataframe tbody tr th {\n",
       "        vertical-align: top;\n",
       "    }\n",
       "\n",
       "    .dataframe thead th {\n",
       "        text-align: right;\n",
       "    }\n",
       "</style>\n",
       "<table border=\"1\" class=\"dataframe\">\n",
       "  <thead>\n",
       "    <tr style=\"text-align: right;\">\n",
       "      <th></th>\n",
       "      <th>text</th>\n",
       "      <th>category</th>\n",
       "      <th>label</th>\n",
       "    </tr>\n",
       "  </thead>\n",
       "  <tbody>\n",
       "    <tr>\n",
       "      <th>0</th>\n",
       "      <td>!!! RT @mayasolovely: As a woman you shouldn't complain about cleaning up your house. &amp;amp; as a man you should always take the trash out...</td>\n",
       "      <td>normal</td>\n",
       "      <td>False</td>\n",
       "    </tr>\n",
       "    <tr>\n",
       "      <th>1</th>\n",
       "      <td>!!!!! RT @mleew17: boy dats cold...tyga dwn bad for cuffin dat hoe in the 1st place!!</td>\n",
       "      <td>offensive_language</td>\n",
       "      <td>True</td>\n",
       "    </tr>\n",
       "    <tr>\n",
       "      <th>2</th>\n",
       "      <td>!!!!!!! RT @UrKindOfBrand Dawg!!!! RT @80sbaby4life: You ever fuck a bitch and she start to cry? You be confused as shit</td>\n",
       "      <td>offensive_language</td>\n",
       "      <td>True</td>\n",
       "    </tr>\n",
       "    <tr>\n",
       "      <th>3</th>\n",
       "      <td>!!!!!!!!! RT @C_G_Anderson: @viva_based she look like a tranny</td>\n",
       "      <td>offensive_language</td>\n",
       "      <td>True</td>\n",
       "    </tr>\n",
       "    <tr>\n",
       "      <th>4</th>\n",
       "      <td>!!!!!!!!!!!!! RT @ShenikaRoberts: The shit you hear about me might be true or it might be faker than the bitch who told it to ya &amp;#57361;</td>\n",
       "      <td>offensive_language</td>\n",
       "      <td>True</td>\n",
       "    </tr>\n",
       "  </tbody>\n",
       "</table>\n",
       "</div>"
      ],
      "text/plain": [
       "                                                                                                                                           text  \\\n",
       "0  !!! RT @mayasolovely: As a woman you shouldn't complain about cleaning up your house. &amp; as a man you should always take the trash out...   \n",
       "1                                                         !!!!! RT @mleew17: boy dats cold...tyga dwn bad for cuffin dat hoe in the 1st place!!   \n",
       "2                      !!!!!!! RT @UrKindOfBrand Dawg!!!! RT @80sbaby4life: You ever fuck a bitch and she start to cry? You be confused as shit   \n",
       "3                                                                                !!!!!!!!! RT @C_G_Anderson: @viva_based she look like a tranny   \n",
       "4     !!!!!!!!!!!!! RT @ShenikaRoberts: The shit you hear about me might be true or it might be faker than the bitch who told it to ya &#57361;   \n",
       "\n",
       "             category  label  \n",
       "0              normal  False  \n",
       "1  offensive_language   True  \n",
       "2  offensive_language   True  \n",
       "3  offensive_language   True  \n",
       "4  offensive_language   True  "
      ]
     },
     "execution_count": 2,
     "metadata": {},
     "output_type": "execute_result"
    }
   ],
   "source": [
    "data = pd.read_csv('./DS2_clean.csv', encoding='utf-8')\n",
    "data.head()\n"
   ]
  },
  {
   "cell_type": "code",
   "execution_count": 3,
   "metadata": {},
   "outputs": [],
   "source": [
    "data.describe()\n",
    "data['label'] = data['label'].apply(lambda label: 0 if label == False else 1)"
   ]
  },
  {
   "cell_type": "code",
   "execution_count": 4,
   "metadata": {},
   "outputs": [
    {
     "name": "stdout",
     "output_type": "stream",
     "text": [
      "Percentage of Offensive language: 83.2%\n"
     ]
    },
    {
     "data": {
      "text/plain": [
       "Text(0.5, 1.0, 'Empirical distribution of the labels')"
      ]
     },
     "execution_count": 4,
     "metadata": {},
     "output_type": "execute_result"
    },
    {
     "data": {
      "image/png": "[encoded data removed]",
      "text/plain": [
       "<Figure size 432x288 with 1 Axes>"
      ]
     },
     "metadata": {
      "needs_background": "light"
     },
     "output_type": "display_data"
    }
   ],
   "source": [
    "# Empirical distribution of the labels\n",
    "print('Percentage of Offensive language: {0}%'.format(round(100 * data['label'].sum() / len(data['label']), 2)))\n",
    "plt.hist(data['label'], bins=3, weights=np.ones(len(data['label'])) / len(data['label']))\n",
    "plt.xlabel('label')\n",
    "plt.ylabel('Empirical PDF')\n",
    "plt.title('Empirical distribution of the labels')"
   ]
  },
  {
   "cell_type": "code",
   "execution_count": 5,
   "metadata": {},
   "outputs": [
    {
     "name": "stdout",
     "output_type": "stream",
     "text": [
      "1                                                                              !!!!! RT @mleew17: boy dats cold...tyga dwn bad for cuffin dat hoe in the 1st place!!\n",
      "2                                           !!!!!!! RT @UrKindOfBrand Dawg!!!! RT @80sbaby4life: You ever fuck a bitch and she start to cry? You be confused as shit\n",
      "3                                                                                                     !!!!!!!!! RT @C_G_Anderson: @viva_based she look like a tranny\n",
      "4                          !!!!!!!!!!!!! RT @ShenikaRoberts: The shit you hear about me might be true or it might be faker than the bitch who told it to ya &#57361;\n",
      "5     !!!!!!!!!!!!!!!!!!\"@T_Madison_x: The shit just blows me..claim you so faithful and down for somebody but still fucking with hoes! &#128514;&#128514;&#128514;\"\n",
      "6                                                          !!!!!!\"@__BrighterDays: I can not just sit up and HATE on another bitch .. I got too much shit going on!\"\n",
      "7                                                                 !!!!&#8220;@selfiequeenbri: cause I'm tired of you big bitches coming for us skinny girls!!&#8221;\n",
      "8                                                                                                         \" &amp; you might not get ya bitch back &amp; thats that \"\n",
      "9                                                                                                          \" @rhythmixx_ :hobbies include: fighting Mariam\"\\n\\nbitch\n",
      "10                                                                          \" Keeks is a bitch she curves everyone \" lol I walked into a conversation like this. Smh\n",
      "Name: text, dtype: object\n",
      "0      !!! RT @mayasolovely: As a woman you shouldn't complain about cleaning up your house. &amp; as a man you should always take the trash out...\n",
      "40                                                                                                  \" momma said no pussy cats inside my doghouse \"\n",
      "63                                                          \"@Addicted2Guys: -SimplyAddictedToGuys http://t.co/1jL4hi8ZMF\" woof woof hot scally lad\n",
      "66                                                                               \"@AllAboutManFeet: http://t.co/3gzUpfuMev\" woof woof and hot soles\n",
      "67                                                                            \"@Allyhaaaaa: Lemmie eat a Oreo &amp; do these dishes.\" One oreo? Lol\n",
      "70                                                              \"@ArizonasFinest6: Why the eggplant emoji doe?\"y he say she looked like scream lmao\n",
      "75                                                  \"@BabyAnimalPics: baby monkey bathtime http://t.co/7KPWAdLF0R\"\\nAwwwwe! This is soooo ADORABLE!\n",
      "115                                                          \"@DomWorldPeace: Baseball season for the win. #Yankees\" This is where the love started\n",
      "118                                                               \"@DunderbaIl: I'm an early bird and I'm a night owl, so I'm wise and have worms.\"\n",
      "119                                             \"@EdgarPixar: Overdosing on heavy drugs doesn't sound bad tonight.\" I do that pussy shit every day.\n",
      "Name: text, dtype: object\n"
     ]
    }
   ],
   "source": [
    "# extract spams and hams\n",
    "offensive = data['text'].iloc[(data['label'] == 1).values]\n",
    "normal = data['text'].iloc[(data['label'] == 0).values]\n",
    "print(offensive[:10])\n",
    "print(normal[:10])"
   ]
  },
  {
   "cell_type": "code",
   "execution_count": 6,
   "metadata": {},
   "outputs": [
    {
     "data": {
      "text/html": [
       "<div>\n",
       "<style scoped>\n",
       "    .dataframe tbody tr th:only-of-type {\n",
       "        vertical-align: middle;\n",
       "    }\n",
       "\n",
       "    .dataframe tbody tr th {\n",
       "        vertical-align: top;\n",
       "    }\n",
       "\n",
       "    .dataframe thead th {\n",
       "        text-align: right;\n",
       "    }\n",
       "</style>\n",
       "<table border=\"1\" class=\"dataframe\">\n",
       "  <thead>\n",
       "    <tr style=\"text-align: right;\">\n",
       "      <th></th>\n",
       "      <th>text</th>\n",
       "      <th>category</th>\n",
       "      <th>label</th>\n",
       "      <th>text_length</th>\n",
       "    </tr>\n",
       "  </thead>\n",
       "  <tbody>\n",
       "    <tr>\n",
       "      <th>17865</th>\n",
       "      <td>RT @TrxllLegend: One good girl is worth a thousand bitches\\n\\n&amp;#128112; = &amp;#128109;&amp;#128109;&amp;#128109;&amp;#128109;&amp;#128109;&amp;#128109;&amp;#128109;&amp;#128109;&amp;#128109;&amp;#128109;&amp;#128109;&amp;#128109;&amp;#128109;&amp;#128...</td>\n",
       "      <td>offensive_language</td>\n",
       "      <td>1</td>\n",
       "      <td>754</td>\n",
       "    </tr>\n",
       "    <tr>\n",
       "      <th>13402</th>\n",
       "      <td>No summer school? &amp;#128515;&amp;#128515;&amp;#128515;&amp;#128515;&amp;#128515;&amp;#128515;&amp;#128515;&amp;#128515;&amp;#128515;&amp;#128515;&amp;#128515;&amp;#128515;&amp;#128515;&amp;#128515;&amp;#128515;&amp;#128515;&amp;#128515;&amp;#128515;&amp;#128515;&amp;#12851...</td>\n",
       "      <td>offensive_language</td>\n",
       "      <td>1</td>\n",
       "      <td>657</td>\n",
       "    </tr>\n",
       "    <tr>\n",
       "      <th>1596</th>\n",
       "      <td>&amp;#8220;@Untouchable_T: Never seen so many perfect bitches til I made a Twitter &amp;#128564; but &amp;#128056;&amp;#9749;&amp;#65039;&amp;#8221;&amp;#128175;&amp;#128175;&amp;#128175;&amp;#128175;&amp;#128175;&amp;#128175;&amp;#128175;&amp;#128175;...</td>\n",
       "      <td>offensive_language</td>\n",
       "      <td>1</td>\n",
       "      <td>637</td>\n",
       "    </tr>\n",
       "    <tr>\n",
       "      <th>16539</th>\n",
       "      <td>RT @Mr_MshkL: &amp;#1589;&amp;#1608;&amp;#1585;&amp;#1577; &amp;#1604;&amp;#1591;&amp;#1575;&amp;#1574;&amp;#1585; &amp;#1575;&amp;#1604;&amp;#1603;&amp;#1575;&amp;#1585;&amp;#1583;&amp;#1610;&amp;#1606;&amp;#1575;&amp;#1604; &amp;#1575;&amp;#1604;&amp;#1571;&amp;#1581;&amp;#1605;&amp;#1585; &amp;#1...</td>\n",
       "      <td>normal</td>\n",
       "      <td>0</td>\n",
       "      <td>522</td>\n",
       "    </tr>\n",
       "    <tr>\n",
       "      <th>18886</th>\n",
       "      <td>RT @digiflorals: bitch do it look like I care \\n\\n&amp;#12288; N\\n&amp;#12288;&amp;#12288; O\\n&amp;#12288;&amp;#12288;&amp;#12288; O\\n&amp;#12288;&amp;#12288;&amp;#12288;&amp;#12288; o\\n&amp;#12288;&amp;#12288;&amp;#12288;&amp;#12288;&amp;#12288;o\\n&amp;#12288...</td>\n",
       "      <td>offensive_language</td>\n",
       "      <td>1</td>\n",
       "      <td>455</td>\n",
       "    </tr>\n",
       "    <tr>\n",
       "      <th>...</th>\n",
       "      <td>...</td>\n",
       "      <td>...</td>\n",
       "      <td>...</td>\n",
       "      <td>...</td>\n",
       "    </tr>\n",
       "    <tr>\n",
       "      <th>8944</th>\n",
       "      <td>Emd hoe</td>\n",
       "      <td>offensive_language</td>\n",
       "      <td>1</td>\n",
       "      <td>7</td>\n",
       "    </tr>\n",
       "    <tr>\n",
       "      <th>24619</th>\n",
       "      <td>u a hoe</td>\n",
       "      <td>offensive_language</td>\n",
       "      <td>1</td>\n",
       "      <td>7</td>\n",
       "    </tr>\n",
       "    <tr>\n",
       "      <th>24393</th>\n",
       "      <td>retard.</td>\n",
       "      <td>offensive_language</td>\n",
       "      <td>1</td>\n",
       "      <td>7</td>\n",
       "    </tr>\n",
       "    <tr>\n",
       "      <th>24364</th>\n",
       "      <td>pussy</td>\n",
       "      <td>offensive_language</td>\n",
       "      <td>1</td>\n",
       "      <td>5</td>\n",
       "    </tr>\n",
       "    <tr>\n",
       "      <th>23724</th>\n",
       "      <td>coons</td>\n",
       "      <td>hate_speech</td>\n",
       "      <td>1</td>\n",
       "      <td>5</td>\n",
       "    </tr>\n",
       "  </tbody>\n",
       "</table>\n",
       "<p>24783 rows × 4 columns</p>\n",
       "</div>"
      ],
      "text/plain": [
       "                                                                                                                                                                                                          text  \\\n",
       "17865  RT @TrxllLegend: One good girl is worth a thousand bitches\\n\\n&#128112; = &#128109;&#128109;&#128109;&#128109;&#128109;&#128109;&#128109;&#128109;&#128109;&#128109;&#128109;&#128109;&#128109;&#128...   \n",
       "13402  No summer school? &#128515;&#128515;&#128515;&#128515;&#128515;&#128515;&#128515;&#128515;&#128515;&#128515;&#128515;&#128515;&#128515;&#128515;&#128515;&#128515;&#128515;&#128515;&#128515;&#12851...   \n",
       "1596   &#8220;@Untouchable_T: Never seen so many perfect bitches til I made a Twitter &#128564; but &#128056;&#9749;&#65039;&#8221;&#128175;&#128175;&#128175;&#128175;&#128175;&#128175;&#128175;&#128175;...   \n",
       "16539  RT @Mr_MshkL: &#1589;&#1608;&#1585;&#1577; &#1604;&#1591;&#1575;&#1574;&#1585; &#1575;&#1604;&#1603;&#1575;&#1585;&#1583;&#1610;&#1606;&#1575;&#1604; &#1575;&#1604;&#1571;&#1581;&#1605;&#1585; &#1...   \n",
       "18886  RT @digiflorals: bitch do it look like I care \\n\\n&#12288; N\\n&#12288;&#12288; O\\n&#12288;&#12288;&#12288; O\\n&#12288;&#12288;&#12288;&#12288; o\\n&#12288;&#12288;&#12288;&#12288;&#12288;o\\n&#12288...   \n",
       "...                                                                                                                                                                                                        ...   \n",
       "8944                                                                                                                                                                                                   Emd hoe   \n",
       "24619                                                                                                                                                                                                  u a hoe   \n",
       "24393                                                                                                                                                                                                  retard.   \n",
       "24364                                                                                                                                                                                                    pussy   \n",
       "23724                                                                                                                                                                                                    coons   \n",
       "\n",
       "                 category  label  text_length  \n",
       "17865  offensive_language      1          754  \n",
       "13402  offensive_language      1          657  \n",
       "1596   offensive_language      1          637  \n",
       "16539              normal      0          522  \n",
       "18886  offensive_language      1          455  \n",
       "...                   ...    ...          ...  \n",
       "8944   offensive_language      1            7  \n",
       "24619  offensive_language      1            7  \n",
       "24393  offensive_language      1            7  \n",
       "24364  offensive_language      1            5  \n",
       "23724         hate_speech      1            5  \n",
       "\n",
       "[24783 rows x 4 columns]"
      ]
     },
     "execution_count": 6,
     "metadata": {},
     "output_type": "execute_result"
    }
   ],
   "source": [
    "data['text_length'] = data['text'].apply(lambda text: len(text))\n",
    "data.sort_values(by='text_length', ascending=False)\n",
    "# most of offensie are long sentences? \n"
   ]
  },
  {
   "cell_type": "code",
   "execution_count": 7,
   "metadata": {},
   "outputs": [
    {
     "data": {
      "text/plain": [
       "Text(0.5, 1.0, 'Empirical distribution of the message lengths')"
      ]
     },
     "execution_count": 7,
     "metadata": {},
     "output_type": "execute_result"
    },
    {
     "data": {
      "image/png": "[encoded data removed]",
      "text/plain": [
       "<Figure size 432x288 with 1 Axes>"
      ]
     },
     "metadata": {
      "needs_background": "light"
     },
     "output_type": "display_data"
    }
   ],
   "source": [
    "plt.hist(data['text_length'], bins=50, weights=np.ones(len(data))/len(data))\n",
    "plt.xlabel('Text Length')\n",
    "plt.ylabel('Empirical PDF')\n",
    "plt.title('Empirical distribution of the message lengths')"
   ]
  },
  {
   "cell_type": "code",
   "execution_count": 8,
   "metadata": {
    "scrolled": true
   },
   "outputs": [
    {
     "data": {
      "text/plain": [
       "<matplotlib.legend.Legend at 0x7f86fa7eca20>"
      ]
     },
     "execution_count": 8,
     "metadata": {},
     "output_type": "execute_result"
    },
    {
     "data": {
      "image/png": "[encoded data removed]",
      "text/plain": [
       "<Figure size 432x288 with 1 Axes>"
      ]
     },
     "metadata": {
      "needs_background": "light"
     },
     "output_type": "display_data"
    }
   ],
   "source": [
    "plt.hist(offensive.apply(lambda x: len(x)),\n",
    "         bins=50,\n",
    "         weights=np.ones(len(offensive)) / len(offensive),\n",
    "         facecolor='r',\n",
    "         label='Offensive')\n",
    "plt.hist(normal.apply(lambda x: len(x)),\n",
    "         bins=50,\n",
    "         weights=np.ones(len(normal)) / len(normal),\n",
    "         facecolor='g',\n",
    "         alpha=0.8,\n",
    "         label='Normal')\n",
    "plt.xlabel('Message lenght')\n",
    "plt.ylabel('Empirical PDF')\n",
    "plt.title('Offensive/Normal messages lengths')\n",
    "def preprocess(text):\n",
    "    result = []\n",
    "    for token in simple_preprocess(text):\n",
    "        if token not in STOPWORDS and len(token) > 3:\n",
    "            result.append(lemmatizer.lemmatize(token, pos='v'))\n",
    "    return \" \".join(result).strip()\n",
    "plt.legend()"
   ]
  },
  {
   "cell_type": "code",
   "execution_count": 9,
   "metadata": {},
   "outputs": [],
   "source": [
    "def preprocess(text):\n",
    "    result = []\n",
    "    for token in simple_preprocess(text):\n",
    "        if token not in STOPWORDS and len(token) > 3:\n",
    "            result.append(lemmatizer.lemmatize(token, pos='v'))\n",
    "    return \" \".join(result).strip()\n",
    "\n",
    "def clean_tweets(df):\n",
    "    URL = r'http[s]?://(?:[a-zA-Z]|[0-9]|[$-_@.&+]|[!*\\(\\), ]|(?:%[0-9a-fA-F][0-9a-fA-F]))+'\n",
    "    MENTION = r'@[A-Za-z0-9_]+'\n",
    "    RT = r'RT '\n",
    "    LINE = r'\\n'\n",
    "    AND = r'&amp;'\n",
    "    TRUNCATED = r'[^\\s]+…'\n",
    "    EMOJI = r'\\\"\\s|\\s\\\"|&#\\d+|@[A-Za-z0-9_]+|[:;#.&,!]|http|\\d+_\\w+'\n",
    "\n",
    "    pattern_list = [URL, MENTION, LINE, AND, TRUNCATED, EMOJI]\n",
    "\n",
    "    for i, t in df.items():\n",
    "        for p in pattern_list:\n",
    "            pattern = re.compile(p, re.IGNORECASE)\n",
    "            t = pattern.sub(\"\", t).strip()\n",
    "        # preprocessing text\n",
    "        t = preprocess(t)\n",
    "        df[i] = t\n",
    "\n",
    "    #return df\n",
    "\n",
    "clean_tweets(offensive)\n",
    "clean_tweets(normal)"
   ]
  },
  {
   "cell_type": "code",
   "execution_count": 10,
   "metadata": {},
   "outputs": [
    {
     "name": "stdout",
     "output_type": "stream",
     "text": [
      "['dats', 'coldtyga', 'cuffin', 'place', 'dawg', 'fuck', 'bitch', 'start', 'confuse', 'shit']\n",
      "['woman', 'shouldn', 'complain', 'clean', 'house', 'trash', 'momma', 'say', 'pussy', 'cat']\n"
     ]
    }
   ],
   "source": [
    "# most common words in spam and ham\n",
    "offensive_tokens = []\n",
    "for word in offensive:\n",
    "    offensive_tokens += nltk.tokenize.word_tokenize(word)\n",
    "normal_tokens = []\n",
    "for word in normal:\n",
    "    normal_tokens += nltk.tokenize.word_tokenize(word)\n",
    "print(offensive_tokens[:10])\n",
    "print(normal_tokens[:10])\n"
   ]
  },
  {
   "cell_type": "code",
   "execution_count": 11,
   "metadata": {},
   "outputs": [
    {
     "name": "stdout",
     "output_type": "stream",
     "text": [
      "[('bitch', 11148), ('like', 2409), ('hoe', 2324), ('fuck', 2215), ('pussy', 2091), ('shit', 1275), ('nigga', 1199), ('know', 835), ('niggas', 779), ('love', 657), ('want', 632), ('look', 624), ('na', 573), ('think', 561), ('faggot', 528), ('go', 526), ('talk', 515), ('tell', 482), ('need', 468), ('trash', 459)]\n",
      "[('trash', 688), ('bird', 466), ('like', 305), ('charlie', 255), ('yellow', 219), ('yankees', 217), ('look', 131), ('color', 124), ('think', 116), ('go', 113), ('want', 112), ('monkey', 110), ('know', 107), ('ghetto', 107), ('game', 104), ('love', 99), ('good', 92), ('mock', 89), ('time', 85), ('talk', 81)]\n"
     ]
    }
   ],
   "source": [
    "most_common_tokens_in_offensive = Counter(offensive_tokens).most_common(20)\n",
    "most_common_tokens_in_normal = Counter(normal_tokens).most_common(20)\n",
    "print(most_common_tokens_in_offensive)\n",
    "print(most_common_tokens_in_normal)"
   ]
  },
  {
   "cell_type": "code",
   "execution_count": 12,
   "metadata": {},
   "outputs": [
    {
     "name": "stdout",
     "output_type": "stream",
     "text": [
      "Train-valid data length: 17348\n",
      "Test data length: 7435\n"
     ]
    }
   ],
   "source": [
    "data, test_data = train_test_split(data, test_size=0.3)\n",
    "print('Train-valid data length: {0}'.format(len(data)))\n",
    "print('Test data length: {0}'.format(len(test_data)))\n"
   ]
  },
  {
   "cell_type": "code",
   "execution_count": 13,
   "metadata": {},
   "outputs": [],
   "source": [
    "binary_vectorizer = CountVectorizer(binary=True)\n",
    "count_vectorizer = CountVectorizer()\n",
    "tfidf_vectorizer = TfidfVectorizer(min_df=0., max_df=1., use_idf=True)"
   ]
  },
  {
   "cell_type": "code",
   "execution_count": 14,
   "metadata": {},
   "outputs": [],
   "source": [
    "def feature_extraction(df, test=False):\n",
    "    if not test:\n",
    "        tfidf_vectorizer.fit(df['text'])\n",
    "    \n",
    "    X = np.array(tfidf_vectorizer.transform(df['text']).todense())\n",
    "    return X\n"
   ]
  },
  {
   "cell_type": "code",
   "execution_count": 15,
   "metadata": {},
   "outputs": [],
   "source": [
    "train_df, valid_df = train_test_split(data, test_size=0.3)\n",
    "\n",
    "X_train = feature_extraction(train_df)\n",
    "y_train = train_df['label'].values\n",
    "\n",
    "X_valid = feature_extraction(valid_df, test=True)\n",
    "y_valid = valid_df['label'].values\n"
   ]
  },
  {
   "cell_type": "code",
   "execution_count": 19,
   "metadata": {},
   "outputs": [
    {
     "data": {
      "text/plain": [
       "array([[0., 0., 0., ..., 0., 0., 0.],\n",
       "       [0., 0., 0., ..., 0., 0., 0.],\n",
       "       [0., 0., 0., ..., 0., 0., 0.],\n",
       "       ...,\n",
       "       [0., 0., 0., ..., 0., 0., 0.],\n",
       "       [0., 0., 0., ..., 0., 0., 0.],\n",
       "       [0., 0., 0., ..., 0., 0., 0.]])"
      ]
     },
     "execution_count": 19,
     "metadata": {},
     "output_type": "execute_result"
    }
   ],
   "source": [
    "X_train"
   ]
  },
  {
   "cell_type": "code",
   "execution_count": null,
   "metadata": {},
   "outputs": [],
   "source": [
    "tv_matrix = tfidf_vectorizer.fit_transform(train_df['text']).toarray()\n",
    "vocab = tfidf_vectorizer.get_feature_names()\n",
    "pd.DataFrame(np.round(tv_matrix, 2), columns=vocab)"
   ]
  },
  {
   "cell_type": "code",
   "execution_count": 17,
   "metadata": {},
   "outputs": [],
   "source": [
    "clfs = {\n",
    "    'mnb': MultinomialNB(),\n",
    "    'gnb': GaussianNB(),\n",
    "    'svm1': SVC(kernel='linear'),\n",
    "    #'svm2': SVC(kernel='rbf'),\n",
    "    #'svm3': SVC(kernel='sigmoid'),\n",
    "    #'mlp1': MLPClassifier(),\n",
    "    #'mlp2': MLPClassifier(hidden_layer_sizes=[100, 100]),\n",
    "    'ada': AdaBoostClassifier(),\n",
    "    'dtc': DecisionTreeClassifier(),\n",
    "    'rfc': RandomForestClassifier(),\n",
    "    'gbc': GradientBoostingClassifier(),\n",
    "    'lr': LogisticRegression()\n",
    "}"
   ]
  },
  {
   "cell_type": "code",
   "execution_count": null,
   "metadata": {},
   "outputs": [
    {
     "name": "stdout",
     "output_type": "stream",
     "text": [
      "mnb\n",
      "gnb\n"
     ]
    }
   ],
   "source": [
    "f1_scores = dict()\n",
    "for clf_name in clfs:\n",
    "    print(clf_name)\n",
    "    clf = clfs[clf_name]\n",
    "    clf.fit(X_train, y_train)\n",
    "    y_pred = clf.predict(X_valid)\n",
    "    f1_scores[clf_name] = f1_score(y_pred, y_valid)\n",
    "\n"
   ]
  },
  {
   "cell_type": "code",
   "execution_count": 1,
   "metadata": {},
   "outputs": [
    {
     "ename": "NameError",
     "evalue": "name 'f1_scores' is not defined",
     "output_type": "error",
     "traceback": [
      "\u001b[0;31m---------------------------------------------------------------------------\u001b[0m",
      "\u001b[0;31mNameError\u001b[0m                                 Traceback (most recent call last)",
      "\u001b[0;32m<ipython-input-1-43979a2f1599>\u001b[0m in \u001b[0;36m<module>\u001b[0;34m\u001b[0m\n\u001b[0;32m----> 1\u001b[0;31m \u001b[0mf1_scores\u001b[0m\u001b[0;34m\u001b[0m\u001b[0;34m\u001b[0m\u001b[0m\n\u001b[0m",
      "\u001b[0;31mNameError\u001b[0m: name 'f1_scores' is not defined"
     ]
    }
   ],
   "source": [
    "f1_scores"
   ]
  },
  {
   "cell_type": "code",
   "execution_count": null,
   "metadata": {},
   "outputs": [],
   "source": []
  },
  {
   "cell_type": "code",
   "execution_count": null,
   "metadata": {},
   "outputs": [],
   "source": []
  }
 ],
 "metadata": {
  "kernelspec": {
   "display_name": "Python 3",
   "language": "python",
   "name": "python3"
  },
  "language_info": {
   "codemirror_mode": {
    "name": "ipython",
    "version": 3
   },
   "file_extension": ".py",
   "mimetype": "text/x-python",
   "name": "python",
   "nbconvert_exporter": "python",
   "pygments_lexer": "ipython3",
   "version": "3.6.8"
  }
 },
 "nbformat": 4,
 "nbformat_minor": 2
}
